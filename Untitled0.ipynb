{
  "nbformat": 4,
  "nbformat_minor": 0,
  "metadata": {
    "colab": {
      "provenance": [],
      "authorship_tag": "ABX9TyPHw2GJ0GCmrsXFqJawRTs1",
      "include_colab_link": true
    },
    "kernelspec": {
      "name": "python3",
      "display_name": "Python 3"
    },
    "language_info": {
      "name": "python"
    }
  },
  "cells": [
    {
      "cell_type": "markdown",
      "metadata": {
        "id": "view-in-github",
        "colab_type": "text"
      },
      "source": [
        "<a href=\"https://colab.research.google.com/github/Nithi0710/algorithm-lab/blob/main/Untitled0.ipynb\" target=\"_parent\"><img src=\"https://colab.research.google.com/assets/colab-badge.svg\" alt=\"Open In Colab\"/></a>"
      ]
    },
    {
      "cell_type": "code",
      "execution_count": null,
      "metadata": {
        "id": "TyYwvOTF4A9d"
      },
      "outputs": [],
      "source": [
        "import time\n",
        "import matplotlib.pyplot as plt import random\n",
        "def linear_search(arr, x):\n",
        "for i in range(len(arr)):\n",
        "if arr[i] == x: return i\n",
        "return -1\n",
        "n_values = [100, 1000, 10000, 100000, 1000000]\n",
        "time_values = []\n",
        "for n in n_values:\n",
        "arr = [random.randint(0, n) for _ in range(n)]\n",
        "x = random.randint(0, n)\n",
        "start_time = time.time()\n",
        "linear_search(arr, x) end_time =\n",
        "time.time()\n",
        "time_values.append(end_time - start_time)\n",
        "plt.plot(n_values, time_values)\n",
        "plt.title('Linear Search')\n",
        "plt.xlabel('Number of Elements')\n",
        "plt.ylabel('Time Taken (seconds)')\n",
        "plt.show()"
      ]
    }
  ]
}