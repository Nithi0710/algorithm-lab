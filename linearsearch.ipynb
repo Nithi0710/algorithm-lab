{
  "nbformat": 4,
  "nbformat_minor": 0,
  "metadata": {
    "colab": {
      "provenance": [],
      "authorship_tag": "ABX9TyPHw2GJ0GCmrsXFqJawRTs1",
      "include_colab_link": true
    },
    "kernelspec": {
      "name": "python3",
      "display_name": "Python 3"
    },
    "language_info": {
      "name": "python"
    }
  },
  "cells": [
    {
      "cell_type": "markdown",
      "metadata": {
        "id": "view-in-github",
        "colab_type": "text"
      },
      "source": [
        "<a href=\"https://colab.research.google.com/github/Nithi0710/algorithm-lab/blob/main/linearsearch.ipynb\" target=\"_parent\"><img src=\"https://colab.research.google.com/assets/colab-badge.svg\" alt=\"Open In Colab\"/></a>"
      ]
    },
    {
      "cell_type": "code",
      "execution_count": 1,
      "metadata": {
        "colab": {
          "base_uri": "https://localhost:8080/",
          "height": 106
        },
        "id": "TyYwvOTF4A9d",
        "outputId": "0a4a3a9b-368c-4b8f-a6c9-ca47b1bc0f4f"
      },
      "outputs": [
        {
          "output_type": "error",
          "ename": "SyntaxError",
          "evalue": "invalid syntax (<ipython-input-1-6c7cb2a66218>, line 2)",
          "traceback": [
            "\u001b[0;36m  File \u001b[0;32m\"<ipython-input-1-6c7cb2a66218>\"\u001b[0;36m, line \u001b[0;32m2\u001b[0m\n\u001b[0;31m    import matplotlib.pyplot as plt import random\u001b[0m\n\u001b[0m                                    ^\u001b[0m\n\u001b[0;31mSyntaxError\u001b[0m\u001b[0;31m:\u001b[0m invalid syntax\n"
          ]
        }
      ],
      "source": [
        "import time\n",
        "import matplotlib.pyplot as plt import random\n",
        "def linear_search(arr, x):\n",
        "for i in range(len(arr)):\n",
        "if arr[i] == x: return i\n",
        "return -1\n",
        "n_values = [100, 1000, 10000, 100000, 1000000]\n",
        "time_values = []\n",
        "for n in n_values:\n",
        "arr = [random.randint(0, n) for _ in range(n)]\n",
        "x = random.randint(0, n)\n",
        "start_time = time.time()\n",
        "linear_search(arr, x) end_time =\n",
        "time.time()\n",
        "time_values.append(end_time - start_time)\n",
        "plt.plot(n_values, time_values)\n",
        "plt.title('Linear Search')\n",
        "plt.xlabel('Number of Elements')\n",
        "plt.ylabel('Time Taken (seconds)')\n",
        "plt.show()"
      ]
    }
  ]
}